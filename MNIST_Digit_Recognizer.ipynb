{
  "nbformat": 4,
  "nbformat_minor": 0,
  "metadata": {
    "colab": {
      "name": "MNIST Digit Recognizer",
      "provenance": []
    },
    "kernelspec": {
      "name": "python3",
      "display_name": "Python 3"
    },
    "accelerator": "GPU"
  },
  "cells": [
    {
      "cell_type": "code",
      "metadata": {
        "colab": {
          "base_uri": "https://localhost:8080/"
        },
        "id": "HHo7j54d1YvC",
        "outputId": "16bcfda9-f0c0-40b0-c414-b3d1995c1c33"
      },
      "source": [
        "from google.colab import drive\n",
        "drive.mount('/content/drive')"
      ],
      "execution_count": null,
      "outputs": [
        {
          "output_type": "stream",
          "text": [
            "Mounted at /content/drive\n"
          ],
          "name": "stdout"
        }
      ]
    },
    {
      "cell_type": "code",
      "metadata": {
        "id": "DcrwqDFzJoNg"
      },
      "source": [
        "import tensorflow as tf\n",
        "from tensorflow import keras\n",
        "import numpy as np\n",
        "import pandas as pd\n",
        "import sklearn as sk\n",
        "import matplotlib.pyplot as plt\n",
        "\n",
        "np.random.seed(42)\n",
        "tf.random.set_seed(42)"
      ],
      "execution_count": null,
      "outputs": []
    },
    {
      "cell_type": "code",
      "metadata": {
        "id": "NKk1kCrDx--E"
      },
      "source": [
        "# load data\n",
        "\n",
        "path_to_folder = '/content/drive/MyDrive/Colab Notebooks/kaggle/mnist/'\n",
        "\n",
        "train_data = pd.read_csv(path_to_folder + 'train.csv')\n",
        "test_data = pd.read_csv(path_to_folder + 'test.csv')"
      ],
      "execution_count": null,
      "outputs": []
    },
    {
      "cell_type": "code",
      "metadata": {
        "id": "xjCnEQLLyTit"
      },
      "source": [
        "# normalize values\n",
        "\n",
        "Y_whole = train_data['label'].values\n",
        "X_whole = train_data.drop('label', axis=1).values / 255.\n",
        "X_test = test_data.values / 255.\n",
        "\n",
        "\n",
        "# reshape data\n",
        "\n",
        "X_whole = X_whole.reshape((-1, 28, 28, 1))\n",
        "X_test = X_test.reshape((-1, 28, 28, 1))"
      ],
      "execution_count": null,
      "outputs": []
    },
    {
      "cell_type": "code",
      "metadata": {
        "id": "Q7TGRfE590BU"
      },
      "source": [
        "K = keras.backend\n",
        "\n",
        "# create methods to find optimal learning rates\n",
        "\n",
        "class ExponentialLearningRate(keras.callbacks.Callback):\n",
        "    def __init__(self, factor):\n",
        "        self.factor = factor\n",
        "        self.rates = []\n",
        "        self.losses = []\n",
        "    def on_batch_end(self, batch, logs):\n",
        "        self.rates.append(K.get_value(self.model.optimizer.lr))\n",
        "        self.losses.append(logs[\"loss\"])\n",
        "        K.set_value(self.model.optimizer.lr, self.model.optimizer.lr * self.factor)\n",
        "\n",
        "def find_learning_rate(model, X, y, epochs=1, batch_size=32, min_rate=10**-5, max_rate=10):\n",
        "    init_weights = model.get_weights()\n",
        "    iterations = len(X) // batch_size * epochs\n",
        "    factor = np.exp(np.log(max_rate / min_rate) / iterations)\n",
        "    init_lr = K.get_value(model.optimizer.lr)\n",
        "    K.set_value(model.optimizer.lr, min_rate)\n",
        "    exp_lr = ExponentialLearningRate(factor)\n",
        "    history = model.fit(X, y, epochs=epochs, batch_size=batch_size,\n",
        "                        callbacks=[exp_lr])\n",
        "    K.set_value(model.optimizer.lr, init_lr)\n",
        "    model.set_weights(init_weights)\n",
        "    return exp_lr.rates, exp_lr.losses\n",
        "\n",
        "def plot_lr_vs_loss(rates, losses):\n",
        "    plt.plot(rates, losses)\n",
        "    plt.gca().set_xscale('log')\n",
        "    plt.hlines(min(losses), min(rates), max(rates))\n",
        "    plt.axis([min(rates), max(rates), min(losses), (losses[0] + min(losses)) / 2])\n",
        "    plt.xlabel(\"Learning rate\")\n",
        "    plt.ylabel(\"Loss\")"
      ],
      "execution_count": null,
      "outputs": []
    },
    {
      "cell_type": "code",
      "metadata": {
        "id": "IifHILI39yGT"
      },
      "source": [
        "# implementation of 1cycle learning policy\n",
        "\n",
        "class OneCycleScheduler(keras.callbacks.Callback):\n",
        "    def __init__(self, iterations, max_rate, start_rate=None,\n",
        "                 last_iterations=None, last_rate=None):\n",
        "        self.iterations = iterations\n",
        "        self.max_rate = max_rate\n",
        "        self.start_rate = start_rate or max_rate / 10\n",
        "        self.last_iterations = last_iterations or iterations // 10 + 1\n",
        "        self.half_iteration = (iterations - self.last_iterations) // 2\n",
        "        self.last_rate = last_rate or self.start_rate / 1000\n",
        "        self.iteration = 0\n",
        "    def _interpolate(self, iter1, iter2, rate1, rate2):\n",
        "        return ((rate2 - rate1) * (self.iteration - iter1)\n",
        "                / (iter2 - iter1) + rate1)\n",
        "    def on_batch_begin(self, batch, logs):\n",
        "        if self.iteration < self.half_iteration:\n",
        "            rate = self._interpolate(0, self.half_iteration, self.start_rate, self.max_rate)\n",
        "        elif self.iteration < 2 * self.half_iteration:\n",
        "            rate = self._interpolate(self.half_iteration, 2 * self.half_iteration,\n",
        "                                     self.max_rate, self.start_rate)\n",
        "        else:\n",
        "            rate = self._interpolate(2 * self.half_iteration, self.iterations,\n",
        "                                     self.start_rate, self.last_rate)\n",
        "            rate = max(rate, self.last_rate)\n",
        "        self.iteration += 1\n",
        "        K.set_value(self.model.optimizer.lr, rate)"
      ],
      "execution_count": null,
      "outputs": []
    },
    {
      "cell_type": "code",
      "metadata": {
        "id": "4OlPQyy84djN"
      },
      "source": [
        "# data generator\n",
        "\n",
        "from tensorflow.keras.preprocessing.image import ImageDataGenerator\n",
        "image_generator = ImageDataGenerator(rotation_range=10,\n",
        "                               width_shift_range=0.1,\n",
        "                               height_shift_range=0.1,\n",
        "                               shear_range=0.1,\n",
        "                               zoom_range=0.1,\n",
        "                               horizontal_flip=False,\n",
        "                               vertical_flip=False\n",
        "                              )"
      ],
      "execution_count": null,
      "outputs": []
    },
    {
      "cell_type": "code",
      "metadata": {
        "id": "fDHaBYU1wlud"
      },
      "source": [
        "# model definition\n",
        "\n",
        "models = []\n",
        "\n",
        "model = keras.models.Sequential()\n",
        "\n",
        "model.add(keras.layers.Input((28, 28, 1)))\n",
        "\n",
        "\n",
        "model.add(keras.layers.BatchNormalization())\n",
        "\n",
        "model.add(keras.layers.Conv2D(filters=32, kernel_size=5, padding='same', activation='selu'))\n",
        "model.add(keras.layers.BatchNormalization())\n",
        "\n",
        "model.add(keras.layers.Conv2D(filters=32, kernel_size=5, padding='same', activation='selu'))\n",
        "model.add(keras.layers.BatchNormalization())\n",
        "\n",
        "model.add(keras.layers.MaxPool2D())\n",
        "\n",
        "model.add(keras.layers.Conv2D(filters=64, kernel_size=5, padding='same', activation='selu'))\n",
        "model.add(keras.layers.BatchNormalization())\n",
        "\n",
        "model.add(keras.layers.Conv2D(filters=64, kernel_size=5, padding='same', activation='selu'))\n",
        "model.add(keras.layers.BatchNormalization())\n",
        "\n",
        "model.add(keras.layers.MaxPool2D())\n",
        "\n",
        "model.add(keras.layers.Conv2D(filters=128, kernel_size=5, padding='same', activation='selu'))\n",
        "model.add(keras.layers.BatchNormalization())\n",
        "\n",
        "model.add(keras.layers.MaxPool2D())\n",
        "\n",
        "model.add(keras.layers.Flatten())\n",
        "model.add(keras.layers.BatchNormalization())\n",
        "model.add(keras.layers.Dense(512, activation='selu'))\n",
        "\n",
        "model.add(keras.layers.BatchNormalization())\n",
        "model.add(keras.layers.Dense(32, activation='selu'))\n",
        "\n",
        "model.add(keras.layers.BatchNormalization())\n",
        "model.add(keras.layers.Dense(10, activation='softmax'))\n",
        "\n",
        "models.append(model)"
      ],
      "execution_count": null,
      "outputs": []
    },
    {
      "cell_type": "code",
      "metadata": {
        "colab": {
          "base_uri": "https://localhost:8080/",
          "height": 300
        },
        "id": "DGrAxEeW92vu",
        "outputId": "be28bf2b-c1cc-41f2-af18-4b163c63c1cf"
      },
      "source": [
        "tf.random.set_seed(42)\n",
        "np.random.seed(42)\n",
        "\n",
        "\n",
        "def model_preparation(model):\n",
        "  custom_optimizer = keras.optimizers.Nadam()\n",
        "\n",
        "  model.compile(optimizer=custom_optimizer,\n",
        "                loss=keras.losses.sparse_categorical_crossentropy,\n",
        "                metrics=['accuracy'])\n",
        "\n",
        "for model in models:\n",
        "  model_preparation(model)\n",
        "\n",
        "batch_size = 32\n",
        "rates, losses = find_learning_rate(models[0], X_whole, Y_whole, epochs=1, batch_size=batch_size)\n",
        "plot_lr_vs_loss(rates, losses)"
      ],
      "execution_count": null,
      "outputs": [
        {
          "output_type": "stream",
          "text": [
            "1313/1313 [==============================] - 29s 22ms/step - loss: 854.0471 - accuracy: 0.7110\n"
          ],
          "name": "stdout"
        },
        {
          "output_type": "display_data",
          "data": {
            "image/png": "[encoded data removed]",
            "text/plain": [
              "<Figure size 432x288 with 1 Axes>"
            ]
          },
          "metadata": {
            "tags": [],
            "needs_background": "light"
          }
        }
      ]
    },
    {
      "cell_type": "code",
      "metadata": {
        "colab": {
          "base_uri": "https://localhost:8080/"
        },
        "id": "ZGQPf0hi-6nB",
        "outputId": "9d0a14e3-2aac-4728-e339-6f560037f57a"
      },
      "source": [
        "tf.random.set_seed(42)\n",
        "np.random.seed(42)\n",
        "\n",
        "# split train to get validation set\n",
        "\n",
        "\n",
        "#from sklearn.model_selection import train_test_split\n",
        "#X_train, X_val, Y_train, Y_val = train_test_split(X_whole, Y_whole, test_size=.1, random_state=42)\n",
        "\n",
        "\n",
        "# for fine tuning using all the data available\n",
        "X_train = X_whole\n",
        "Y_train = Y_whole\n",
        "\n",
        "# compile, train then optimize the model\n",
        "\n",
        "max_rate = .003\n",
        "\n",
        "def model_preparation(model):\n",
        "  custom_optimizer = keras.optimizers.Nadam()\n",
        "\n",
        "  model.compile(optimizer=custom_optimizer,\n",
        "                loss=keras.losses.sparse_categorical_crossentropy,\n",
        "                metrics=['accuracy'])\n",
        "  \n",
        "for model in models:\n",
        "  model_preparation(model)\n",
        "\n",
        "training_histories = []\n",
        "\n",
        "n_epochs = 100\n",
        "batch_size = 32\n",
        "\n",
        "onecycle = OneCycleScheduler(len(X_train) // batch_size * n_epochs, max_rate=max_rate, start_rate=max_rate/100)\n",
        "\n",
        "history = models[0].fit(image_generator.flow(X_train, Y_train, batch_size=batch_size), epochs=n_epochs,\n",
        "                                  validation_data=(X_val, Y_val),\n",
        "                                  callbacks=[\n",
        "                                            onecycle, \n",
        "                                            #keras.callbacks.EarlyStopping('val_loss', patience=5, restore_best_weights=True)\n",
        "                                            keras.callbacks.EarlyStopping('loss', patience=2, restore_best_weights=True)\n",
        "                                            ], verbose=1)"
      ],
      "execution_count": null,
      "outputs": [
        {
          "output_type": "stream",
          "text": [
            "Epoch 1/4\n",
            "1313/1313 [==============================] - 37s 28ms/step - loss: 0.0220 - accuracy: 0.9934 - val_loss: 0.0134 - val_accuracy: 0.9952\n",
            "Epoch 2/4\n",
            "1313/1313 [==============================] - 34s 26ms/step - loss: 0.0212 - accuracy: 0.9933 - val_loss: 0.0124 - val_accuracy: 0.9962\n",
            "Epoch 3/4\n",
            "1313/1313 [==============================] - 34s 26ms/step - loss: 0.0170 - accuracy: 0.9949 - val_loss: 0.0116 - val_accuracy: 0.9967\n",
            "Epoch 4/4\n",
            "1313/1313 [==============================] - 34s 26ms/step - loss: 0.0150 - accuracy: 0.9952 - val_loss: 0.0102 - val_accuracy: 0.9967\n"
          ],
          "name": "stdout"
        }
      ]
    },
    {
      "cell_type": "code",
      "metadata": {
        "colab": {
          "base_uri": "https://localhost:8080/",
          "height": 339
        },
        "id": "1zC26J9nEkGE",
        "outputId": "eead58aa-8311-49de-a0e2-a744b4138bf3"
      },
      "source": [
        "def plot_history_by_label(training_history, label):\n",
        "  val_label = 'val_' + label\n",
        "\n",
        "  plt.figure(figsize=[22., 4.8])\n",
        "  plt.plot(training_history.history[label])\n",
        "  if val_label in training_history.history:\n",
        "    plt.plot(training_history.history[val_label])\n",
        "  plt.title('model ' + label)\n",
        "  plt.ylabel(label)\n",
        "  plt.xlabel('epoch')\n",
        "  plt.legend(['train', 'test'], loc='upper left')\n",
        "  plt.show()\n",
        "\n",
        "\n",
        "training_histories.append(history)\n",
        "\n",
        "for history in training_histories:\n",
        "  plot_history_by_label(history, 'loss')"
      ],
      "execution_count": null,
      "outputs": [
        {
          "output_type": "display_data",
          "data": {
            "image/png": "[encoded data removed]",
            "text/plain": [
              "<Figure size 1584x345.6 with 1 Axes>"
            ]
          },
          "metadata": {
            "tags": [],
            "needs_background": "light"
          }
        }
      ]
    },
    {
      "cell_type": "code",
      "metadata": {
        "colab": {
          "base_uri": "https://localhost:8080/",
          "height": 339
        },
        "id": "SRYNT8pfElP-",
        "outputId": "5234201a-e2b1-4537-8448-82005e89b553"
      },
      "source": [
        "for history in training_histories:\n",
        "  plot_history_by_label(history, 'accuracy')"
      ],
      "execution_count": null,
      "outputs": [
        {
          "output_type": "display_data",
          "data": {
            "image/png": "[encoded data removed]",
            "text/plain": [
              "<Figure size 1584x345.6 with 1 Axes>"
            ]
          },
          "metadata": {
            "tags": [],
            "needs_background": "light"
          }
        }
      ]
    },
    {
      "cell_type": "code",
      "metadata": {
        "id": "o5J_Q1u0FC7C"
      },
      "source": [
        "# create predictions according to specification for submission\n",
        "\n",
        "predictions = models[0].predict(X_test).argmax(1)\n",
        "\n",
        "start_index = 1\n",
        "predictions = np.c_[np.arange(start_index, start_index + len(X_test)), predictions]"
      ],
      "execution_count": null,
      "outputs": []
    },
    {
      "cell_type": "code",
      "metadata": {
        "id": "Tx_ZrbDXFFCn"
      },
      "source": [
        "# save predictions to csv\n",
        "\n",
        "np.savetxt('/content/predictions.csv', predictions, header='ImageId,Label', comments='', fmt='%d,%d')"
      ],
      "execution_count": null,
      "outputs": []
    }
  ]
}