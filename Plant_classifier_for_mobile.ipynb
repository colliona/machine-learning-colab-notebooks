{
  "nbformat": 4,
  "nbformat_minor": 0,
  "metadata": {
    "colab": {
      "name": "Plant classifier for mobile",
      "provenance": [],
      "collapsed_sections": []
    },
    "kernelspec": {
      "name": "python3",
      "display_name": "Python 3"
    }
  },
  "cells": [
    {
      "cell_type": "code",
      "metadata": {
        "id": "k44ZTT2QKab0",
        "colab": {
          "base_uri": "https://localhost:8080/",
          "height": 34
        },
        "outputId": "b4c9f9b8-fef8-409e-b5c7-2096021df803"
      },
      "source": [
        "from google.colab import drive\n",
        "\n",
        "drive.mount('/content/drive')"
      ],
      "execution_count": null,
      "outputs": [
        {
          "output_type": "stream",
          "text": [
            "Mounted at /content/drive\n"
          ],
          "name": "stdout"
        }
      ]
    },
    {
      "cell_type": "code",
      "metadata": {
        "id": "3BlgkaMyel0k"
      },
      "source": [
        "import numpy as np\n",
        "import os\n",
        "import matplotlib as mpl\n",
        "import matplotlib.pyplot as plt\n",
        "import tensorflow as tf\n",
        "from tensorflow import keras\n",
        "import pandas as pd\n",
        "from functools import partial"
      ],
      "execution_count": null,
      "outputs": []
    },
    {
      "cell_type": "code",
      "metadata": {
        "id": "XnOEkBBxsl5j"
      },
      "source": [
        "np.random.seed(42)\n",
        "tf.compat.v1.set_random_seed(42)"
      ],
      "execution_count": null,
      "outputs": []
    },
    {
      "cell_type": "code",
      "metadata": {
        "id": "EjQFt4zq1Fs9",
        "colab": {
          "base_uri": "https://localhost:8080/",
          "height": 34
        },
        "outputId": "ca1dbff0-60ae-470d-d55a-a747d2ee1df6"
      },
      "source": [
        "batch_size = 32\n",
        "img_height = 224\n",
        "img_width = 224\n",
        "data_dir = '/content/drive/My Drive/Colab Notebooks/plant/dataset/jpeg-224x224/train/'\n",
        "\n",
        "train_set_raw = tf.keras.preprocessing.image_dataset_from_directory(\n",
        "              data_dir,\n",
        "              seed=123,\n",
        "              image_size=(img_height, img_width),\n",
        "              batch_size=batch_size\n",
        "              )"
      ],
      "execution_count": null,
      "outputs": [
        {
          "output_type": "stream",
          "text": [
            "Found 12753 files belonging to 104 classes.\n"
          ],
          "name": "stdout"
        }
      ]
    },
    {
      "cell_type": "code",
      "metadata": {
        "id": "BviefWwW4l2N",
        "colab": {
          "base_uri": "https://localhost:8080/",
          "height": 34
        },
        "outputId": "731e7306-471d-476a-aaab-588dff1e6f66"
      },
      "source": [
        "batch_size = 32\n",
        "img_height = 224\n",
        "img_width = 224\n",
        "data_dir = '/content/drive/My Drive/Colab Notebooks/plant/dataset/jpeg-224x224/val/'\n",
        "\n",
        "valid_set_pre_split = tf.keras.preprocessing.image_dataset_from_directory(\n",
        "              data_dir,\n",
        "              seed=123,\n",
        "              image_size=(img_height, img_width),\n",
        "              batch_size=batch_size\n",
        "              )"
      ],
      "execution_count": null,
      "outputs": [
        {
          "output_type": "stream",
          "text": [
            "Found 3712 files belonging to 104 classes.\n"
          ],
          "name": "stdout"
        }
      ]
    },
    {
      "cell_type": "code",
      "metadata": {
        "id": "qb5dRwYAd9pW"
      },
      "source": [
        "# Create dataset for production\n",
        "\n",
        "concatenated_set = train_set_raw.concatenate(valid_set_pre_split)"
      ],
      "execution_count": null,
      "outputs": []
    },
    {
      "cell_type": "code",
      "metadata": {
        "id": "BO2iWL-XEnTK"
      },
      "source": [
        "class_names = valid_set_pre_split.class_names"
      ],
      "execution_count": null,
      "outputs": []
    },
    {
      "cell_type": "code",
      "metadata": {
        "id": "uZLeVrQkulDu"
      },
      "source": [
        "# Create validation and test set\n",
        "\n",
        "test_set_size = int(len(valid_set_pre_split) * .1)\n",
        "\n",
        "test_set = valid_set_pre_split.take(test_set_size)\n",
        "valid_set_raw = valid_set_pre_split.skip(test_set_size)"
      ],
      "execution_count": null,
      "outputs": []
    },
    {
      "cell_type": "code",
      "metadata": {
        "id": "BJdp-bXS8M_N"
      },
      "source": [
        "def preprocess(image, label):\n",
        "    resized_image = tf.image.resize(image, [224, 224])\n",
        "    final_image = keras.applications.mobilenet_v2.preprocess_input(resized_image)\n",
        "    return final_image, label"
      ],
      "execution_count": null,
      "outputs": []
    },
    {
      "cell_type": "code",
      "metadata": {
        "id": "wf52NQhqJmCX"
      },
      "source": [
        "# Data augmentation\n",
        "\n",
        "def central_crop(image):\n",
        "    shape = tf.shape(image)\n",
        "    min_dim = tf.reduce_min([shape[0], shape[1]])\n",
        "    top_crop = (shape[0] - min_dim) // 4\n",
        "    bottom_crop = shape[0] - top_crop\n",
        "    left_crop = (shape[1] - min_dim) // 4\n",
        "    right_crop = shape[1] - left_crop\n",
        "    return image[top_crop:bottom_crop, left_crop:right_crop]\n",
        "\n",
        "def random_crop(image):\n",
        "    shape = tf.shape(image)\n",
        "    min_dim = tf.reduce_min([shape[0], shape[1]]) * 90 // 100\n",
        "    return tf.image.random_crop(image, [min_dim, min_dim, 3])\n",
        "\n",
        "def preprocess(image, label, randomize=False):\n",
        "    if randomize:\n",
        "        cropped_image = random_crop(image)\n",
        "        cropped_image = tf.image.random_flip_left_right(cropped_image)\n",
        "    else:\n",
        "        cropped_image = central_crop(image)\n",
        "    resized_image = tf.image.resize(cropped_image, [224, 224])\n",
        "    final_image = keras.applications.mobilenet_v2.preprocess_input(resized_image)\n",
        "    return final_image, label"
      ],
      "execution_count": null,
      "outputs": []
    },
    {
      "cell_type": "code",
      "metadata": {
        "id": "MBWnYD3rKgTs"
      },
      "source": [
        "batch_size = 32\n",
        "n_classes = len(train_set_raw.class_names)"
      ],
      "execution_count": null,
      "outputs": []
    },
    {
      "cell_type": "code",
      "metadata": {
        "id": "acGtUjSeJvmY"
      },
      "source": [
        "# Training sets\n",
        "\n",
        "AUTOTUNE = tf.data.experimental.AUTOTUNE\n",
        "\n",
        "dataset_size = len(train_set_raw)\n",
        "\n",
        "train_set = train_set_raw.map(preprocess, num_parallel_calls=AUTOTUNE).cache().shuffle(dataset_size).repeat().prefetch(AUTOTUNE)\n",
        "\n",
        "test_set = test_set.map(preprocess, num_parallel_calls=AUTOTUNE)\n",
        "\n",
        "valid_set = valid_set_raw.map(preprocess, num_parallel_calls=5).cache().repeat().prefetch(AUTOTUNE)\n",
        "valid_set_size = len(valid_set_raw)"
      ],
      "execution_count": null,
      "outputs": []
    },
    {
      "cell_type": "code",
      "metadata": {
        "id": "_1MLOFzPfnga"
      },
      "source": [
        "# Production sets\n",
        "\n",
        "AUTOTUNE = tf.data.experimental.AUTOTUNE\n",
        "\n",
        "dataset_size = len(concatenated_set)\n",
        "\n",
        "concat_set = concatenated_set.map(preprocess, num_parallel_calls=AUTOTUNE).cache().shuffle(dataset_size).repeat().prefetch(AUTOTUNE)"
      ],
      "execution_count": null,
      "outputs": []
    },
    {
      "cell_type": "code",
      "metadata": {
        "id": "5--nFLtGRHMl"
      },
      "source": [
        "# Visualize data\n",
        "\n",
        "class_names = train_set_raw.class_names\n",
        "\n",
        "plt.figure(figsize=(10, 10))\n",
        "for images, labels in train_set_raw.take(1):\n",
        "  for i in range(9):\n",
        "    ax = plt.subplot(3, 3, i + 1)\n",
        "    plt.imshow(images[i].numpy().astype(\"uint8\"))\n",
        "    plt.title(class_names[labels[i]])\n",
        "    plt.axis(\"off\")"
      ],
      "execution_count": null,
      "outputs": []
    },
    {
      "cell_type": "code",
      "metadata": {
        "id": "lWh9DFM4ejm_"
      },
      "source": [
        "image_batch, label_batch = next(iter(train_set))\n",
        "\n",
        "plt.figure(figsize=(10, 10))\n",
        "for i in range(9):\n",
        "  ax = plt.subplot(3, 3, i + 1)\n",
        "  plt.imshow(image_batch[i].numpy().astype(\"uint8\"))\n",
        "  label = label_batch[i]\n",
        "  plt.title(class_names[label])\n",
        "  plt.axis(\"off\")"
      ],
      "execution_count": null,
      "outputs": []
    },
    {
      "cell_type": "code",
      "metadata": {
        "id": "hBpxyxUM9F2f"
      },
      "source": [
        "# Base model\n",
        "\n",
        "base_model = keras.applications.MobileNetV2(weights=\"imagenet\", include_top=False, input_shape=(224, 224, 3))\n",
        "avg = keras.layers.GlobalAveragePooling2D()(base_model.output)\n",
        "output = keras.layers.Dense(n_classes, activation=\"softmax\")(avg)\n",
        "model = keras.models.Model(inputs=base_model.input, outputs=output)"
      ],
      "execution_count": null,
      "outputs": []
    },
    {
      "cell_type": "code",
      "metadata": {
        "id": "51zUqbh-bfcW"
      },
      "source": [
        "base_model.summary()"
      ],
      "execution_count": null,
      "outputs": []
    },
    {
      "cell_type": "code",
      "metadata": {
        "id": "V_ItwtGj9Pj_"
      },
      "source": [
        "for index, layer in enumerate(base_model.layers):\n",
        "    print(index, layer.name)"
      ],
      "execution_count": null,
      "outputs": []
    },
    {
      "cell_type": "code",
      "metadata": {
        "id": "8NYVzlyXA05U",
        "colab": {
          "base_uri": "https://localhost:8080/",
          "height": 527
        },
        "outputId": "6d04a0d3-fcda-4d0d-8537-c7528f587f4f"
      },
      "source": [
        "## Train top layers only\n",
        "\n",
        "for layer in base_model.layers:\n",
        "    layer.trainable = False\n",
        "\n",
        "# optimizer = keras.optimizers.SGD(lr=0.2, momentum=0.9, decay=0.01)\n",
        "optimizer = keras.optimizers.Nadam(lr=0.01)\n",
        "model.compile(loss=\"sparse_categorical_crossentropy\", optimizer=optimizer,\n",
        "              metrics=[\"accuracy\", tf.keras.metrics.SparseTopKCategoricalAccuracy(2)])\n",
        "history = model.fit(train_set,\n",
        "                    steps_per_epoch=int(0.75 * dataset_size / batch_size),\n",
        "                    validation_data=valid_set,\n",
        "                    validation_steps=int(0.75 * dataset_size / batch_size),\n",
        "                    epochs=15)"
      ],
      "execution_count": null,
      "outputs": [
        {
          "output_type": "stream",
          "text": [
            "Epoch 1/15\n",
            "9/9 [==============================] - 20s 2s/step - loss: 1.3593 - accuracy: 0.6910 - sparse_top_k_categorical_accuracy: 0.8090 - val_loss: 1.8592 - val_accuracy: 0.6597 - val_sparse_top_k_categorical_accuracy: 0.7639\n",
            "Epoch 2/15\n",
            "9/9 [==============================] - 19s 2s/step - loss: 1.4289 - accuracy: 0.7326 - sparse_top_k_categorical_accuracy: 0.8472 - val_loss: 2.3690 - val_accuracy: 0.6250 - val_sparse_top_k_categorical_accuracy: 0.7465\n",
            "Epoch 3/15\n",
            "9/9 [==============================] - 19s 2s/step - loss: 0.9354 - accuracy: 0.7882 - sparse_top_k_categorical_accuracy: 0.8993 - val_loss: 2.1322 - val_accuracy: 0.6736 - val_sparse_top_k_categorical_accuracy: 0.7639\n",
            "Epoch 4/15\n",
            "9/9 [==============================] - 19s 2s/step - loss: 1.5190 - accuracy: 0.7049 - sparse_top_k_categorical_accuracy: 0.8160 - val_loss: 2.1668 - val_accuracy: 0.6181 - val_sparse_top_k_categorical_accuracy: 0.7500\n",
            "Epoch 5/15\n",
            "9/9 [==============================] - 19s 2s/step - loss: 1.3707 - accuracy: 0.7257 - sparse_top_k_categorical_accuracy: 0.8264 - val_loss: 2.1060 - val_accuracy: 0.6806 - val_sparse_top_k_categorical_accuracy: 0.7639\n",
            "Epoch 6/15\n",
            "9/9 [==============================] - 19s 2s/step - loss: 1.3142 - accuracy: 0.7500 - sparse_top_k_categorical_accuracy: 0.8785 - val_loss: 2.5381 - val_accuracy: 0.6424 - val_sparse_top_k_categorical_accuracy: 0.7708\n",
            "Epoch 7/15\n",
            "9/9 [==============================] - 19s 2s/step - loss: 1.9547 - accuracy: 0.7049 - sparse_top_k_categorical_accuracy: 0.7847 - val_loss: 2.6606 - val_accuracy: 0.6111 - val_sparse_top_k_categorical_accuracy: 0.7188\n",
            "Epoch 8/15\n",
            "9/9 [==============================] - 19s 2s/step - loss: 1.5818 - accuracy: 0.7049 - sparse_top_k_categorical_accuracy: 0.8021 - val_loss: 2.5075 - val_accuracy: 0.6042 - val_sparse_top_k_categorical_accuracy: 0.7535\n",
            "Epoch 9/15\n",
            "9/9 [==============================] - 19s 2s/step - loss: 1.2369 - accuracy: 0.7500 - sparse_top_k_categorical_accuracy: 0.8403 - val_loss: 2.4976 - val_accuracy: 0.6597 - val_sparse_top_k_categorical_accuracy: 0.7812\n",
            "Epoch 10/15\n",
            "9/9 [==============================] - 19s 2s/step - loss: 1.2935 - accuracy: 0.7743 - sparse_top_k_categorical_accuracy: 0.8681 - val_loss: 3.3212 - val_accuracy: 0.5625 - val_sparse_top_k_categorical_accuracy: 0.7014\n",
            "Epoch 11/15\n",
            "9/9 [==============================] - 19s 2s/step - loss: 1.6832 - accuracy: 0.7083 - sparse_top_k_categorical_accuracy: 0.8160 - val_loss: 3.1927 - val_accuracy: 0.6181 - val_sparse_top_k_categorical_accuracy: 0.7188\n",
            "Epoch 12/15\n",
            "9/9 [==============================] - 19s 2s/step - loss: 1.7829 - accuracy: 0.7014 - sparse_top_k_categorical_accuracy: 0.8229 - val_loss: 2.5337 - val_accuracy: 0.6354 - val_sparse_top_k_categorical_accuracy: 0.7778\n",
            "Epoch 13/15\n",
            "9/9 [==============================] - 19s 2s/step - loss: 1.5922 - accuracy: 0.6979 - sparse_top_k_categorical_accuracy: 0.8056 - val_loss: 2.4403 - val_accuracy: 0.6319 - val_sparse_top_k_categorical_accuracy: 0.7396\n",
            "Epoch 14/15\n",
            "9/9 [==============================] - 19s 2s/step - loss: 1.6614 - accuracy: 0.7118 - sparse_top_k_categorical_accuracy: 0.8299 - val_loss: 2.8320 - val_accuracy: 0.6285 - val_sparse_top_k_categorical_accuracy: 0.7396\n",
            "Epoch 15/15\n",
            "9/9 [==============================] - 19s 2s/step - loss: 1.6979 - accuracy: 0.6979 - sparse_top_k_categorical_accuracy: 0.8194 - val_loss: 2.4003 - val_accuracy: 0.6076 - val_sparse_top_k_categorical_accuracy: 0.7778\n"
          ],
          "name": "stdout"
        }
      ]
    },
    {
      "cell_type": "code",
      "metadata": {
        "id": "OkshhMl8haPz",
        "colab": {
          "base_uri": "https://localhost:8080/",
          "height": 1000
        },
        "outputId": "ea7a3dca-d6db-4f0b-9fe8-5c782b4c6008"
      },
      "source": [
        "## Train top layers only // production\n",
        "\n",
        "for layer in base_model.layers:\n",
        "    layer.trainable = False\n",
        "\n",
        "# optimizer = keras.optimizers.SGD(lr=0.2, momentum=0.9, decay=0.01)\n",
        "optimizer = keras.optimizers.Nadam(lr=0.01)\n",
        "model.compile(loss=\"sparse_categorical_crossentropy\", optimizer=optimizer,\n",
        "              metrics=[\"accuracy\", tf.keras.metrics.SparseTopKCategoricalAccuracy(2)])\n",
        "history = model.fit(concat_set,\n",
        "                    steps_per_epoch=int(0.75 * dataset_size / batch_size),\n",
        "                    callbacks=[tf.keras.callbacks.EarlyStopping(monitor='loss', patience=25, restore_best_weights=True)],\n",
        "                    epochs=100)\n",
        "\n",
        "\n",
        "# loss: 0.8938 - accuracy: 0.7917 - sparse_top_k_categorical_accuracy: 0.8880"
      ],
      "execution_count": null,
      "outputs": [
        {
          "output_type": "stream",
          "text": [
            "Epoch 1/100\n",
            "12/12 [==============================] - 12s 988ms/step - loss: 5.9121 - accuracy: 0.1224 - sparse_top_k_categorical_accuracy: 0.1589\n",
            "Epoch 2/100\n",
            "12/12 [==============================] - 12s 988ms/step - loss: 4.8846 - accuracy: 0.2005 - sparse_top_k_categorical_accuracy: 0.3255\n",
            "Epoch 3/100\n",
            "12/12 [==============================] - 12s 991ms/step - loss: 4.6826 - accuracy: 0.3021 - sparse_top_k_categorical_accuracy: 0.4349\n",
            "Epoch 4/100\n",
            "12/12 [==============================] - 12s 986ms/step - loss: 4.4451 - accuracy: 0.2786 - sparse_top_k_categorical_accuracy: 0.4479\n",
            "Epoch 5/100\n",
            "12/12 [==============================] - 12s 1s/step - loss: 3.9595 - accuracy: 0.4323 - sparse_top_k_categorical_accuracy: 0.5651\n",
            "Epoch 6/100\n",
            "12/12 [==============================] - 12s 1s/step - loss: 3.1222 - accuracy: 0.4583 - sparse_top_k_categorical_accuracy: 0.6276\n",
            "Epoch 7/100\n",
            "12/12 [==============================] - 12s 990ms/step - loss: 3.1962 - accuracy: 0.4427 - sparse_top_k_categorical_accuracy: 0.5755\n",
            "Epoch 8/100\n",
            "12/12 [==============================] - 12s 990ms/step - loss: 2.6570 - accuracy: 0.5156 - sparse_top_k_categorical_accuracy: 0.6589\n",
            "Epoch 9/100\n",
            "12/12 [==============================] - 12s 985ms/step - loss: 2.5541 - accuracy: 0.5625 - sparse_top_k_categorical_accuracy: 0.6771\n",
            "Epoch 10/100\n",
            "12/12 [==============================] - 12s 995ms/step - loss: 2.2666 - accuracy: 0.6016 - sparse_top_k_categorical_accuracy: 0.7318\n",
            "Epoch 11/100\n",
            "12/12 [==============================] - 12s 983ms/step - loss: 2.7493 - accuracy: 0.5312 - sparse_top_k_categorical_accuracy: 0.6693\n",
            "Epoch 12/100\n",
            "12/12 [==============================] - 11s 950ms/step - loss: 2.1047 - accuracy: 0.5854 - sparse_top_k_categorical_accuracy: 0.7154\n",
            "Epoch 13/100\n",
            "12/12 [==============================] - 12s 1s/step - loss: 2.0487 - accuracy: 0.6120 - sparse_top_k_categorical_accuracy: 0.7500\n",
            "Epoch 14/100\n",
            "12/12 [==============================] - 12s 990ms/step - loss: 2.4583 - accuracy: 0.5391 - sparse_top_k_categorical_accuracy: 0.6719\n",
            "Epoch 15/100\n",
            "12/12 [==============================] - 12s 988ms/step - loss: 2.2207 - accuracy: 0.5703 - sparse_top_k_categorical_accuracy: 0.7057\n",
            "Epoch 16/100\n",
            "12/12 [==============================] - 12s 986ms/step - loss: 2.2193 - accuracy: 0.6146 - sparse_top_k_categorical_accuracy: 0.7292\n",
            "Epoch 17/100\n",
            "12/12 [==============================] - 12s 990ms/step - loss: 2.0306 - accuracy: 0.5911 - sparse_top_k_categorical_accuracy: 0.7135\n",
            "Epoch 18/100\n",
            "12/12 [==============================] - 12s 981ms/step - loss: 2.1501 - accuracy: 0.6172 - sparse_top_k_categorical_accuracy: 0.7370\n",
            "Epoch 19/100\n",
            "12/12 [==============================] - 12s 985ms/step - loss: 2.0356 - accuracy: 0.6016 - sparse_top_k_categorical_accuracy: 0.7370\n",
            "Epoch 20/100\n",
            "12/12 [==============================] - 12s 981ms/step - loss: 2.3114 - accuracy: 0.5859 - sparse_top_k_categorical_accuracy: 0.7188\n",
            "Epoch 21/100\n",
            "12/12 [==============================] - 12s 985ms/step - loss: 2.3543 - accuracy: 0.6042 - sparse_top_k_categorical_accuracy: 0.7214\n",
            "Epoch 22/100\n",
            "12/12 [==============================] - 12s 984ms/step - loss: 1.8771 - accuracy: 0.6250 - sparse_top_k_categorical_accuracy: 0.7656\n",
            "Epoch 23/100\n",
            "12/12 [==============================] - 12s 988ms/step - loss: 2.2413 - accuracy: 0.6276 - sparse_top_k_categorical_accuracy: 0.7318\n",
            "Epoch 24/100\n",
            "12/12 [==============================] - 12s 987ms/step - loss: 2.1964 - accuracy: 0.6146 - sparse_top_k_categorical_accuracy: 0.7344\n",
            "Epoch 25/100\n",
            "12/12 [==============================] - 12s 983ms/step - loss: 2.7192 - accuracy: 0.5729 - sparse_top_k_categorical_accuracy: 0.6901\n",
            "Epoch 26/100\n",
            "12/12 [==============================] - 12s 991ms/step - loss: 1.8302 - accuracy: 0.6641 - sparse_top_k_categorical_accuracy: 0.7708\n",
            "Epoch 27/100\n",
            "12/12 [==============================] - 12s 985ms/step - loss: 2.0196 - accuracy: 0.6589 - sparse_top_k_categorical_accuracy: 0.7839\n",
            "Epoch 28/100\n",
            "12/12 [==============================] - 12s 987ms/step - loss: 2.2044 - accuracy: 0.6016 - sparse_top_k_categorical_accuracy: 0.7500\n",
            "Epoch 29/100\n",
            "12/12 [==============================] - 12s 998ms/step - loss: 1.7428 - accuracy: 0.6406 - sparse_top_k_categorical_accuracy: 0.7812\n",
            "Epoch 30/100\n",
            "12/12 [==============================] - 12s 982ms/step - loss: 2.1812 - accuracy: 0.6562 - sparse_top_k_categorical_accuracy: 0.7474\n",
            "Epoch 31/100\n",
            "12/12 [==============================] - 12s 990ms/step - loss: 1.7769 - accuracy: 0.6354 - sparse_top_k_categorical_accuracy: 0.7865\n",
            "Epoch 32/100\n",
            "12/12 [==============================] - 12s 983ms/step - loss: 2.3370 - accuracy: 0.5781 - sparse_top_k_categorical_accuracy: 0.7318\n",
            "Epoch 33/100\n",
            "12/12 [==============================] - 12s 985ms/step - loss: 2.3318 - accuracy: 0.6198 - sparse_top_k_categorical_accuracy: 0.7318\n",
            "Epoch 34/100\n",
            "12/12 [==============================] - 12s 984ms/step - loss: 2.3492 - accuracy: 0.6172 - sparse_top_k_categorical_accuracy: 0.7578\n",
            "Epoch 35/100\n",
            "12/12 [==============================] - 12s 984ms/step - loss: 2.3482 - accuracy: 0.6536 - sparse_top_k_categorical_accuracy: 0.7760\n",
            "Epoch 36/100\n",
            "12/12 [==============================] - 12s 983ms/step - loss: 2.1721 - accuracy: 0.6536 - sparse_top_k_categorical_accuracy: 0.7812\n",
            "Epoch 37/100\n",
            "12/12 [==============================] - 12s 999ms/step - loss: 1.6241 - accuracy: 0.6849 - sparse_top_k_categorical_accuracy: 0.7917\n",
            "Epoch 38/100\n",
            "12/12 [==============================] - 12s 988ms/step - loss: 2.3325 - accuracy: 0.6302 - sparse_top_k_categorical_accuracy: 0.7474\n",
            "Epoch 39/100\n",
            "12/12 [==============================] - 12s 980ms/step - loss: 2.3301 - accuracy: 0.6198 - sparse_top_k_categorical_accuracy: 0.7474\n",
            "Epoch 40/100\n",
            "12/12 [==============================] - 12s 984ms/step - loss: 2.4848 - accuracy: 0.6380 - sparse_top_k_categorical_accuracy: 0.7292\n",
            "Epoch 41/100\n",
            "12/12 [==============================] - 12s 981ms/step - loss: 2.2248 - accuracy: 0.6354 - sparse_top_k_categorical_accuracy: 0.7500\n",
            "Epoch 42/100\n",
            "12/12 [==============================] - 12s 981ms/step - loss: 1.9795 - accuracy: 0.6719 - sparse_top_k_categorical_accuracy: 0.8021\n",
            "Epoch 43/100\n",
            "12/12 [==============================] - 12s 980ms/step - loss: 2.4131 - accuracy: 0.6380 - sparse_top_k_categorical_accuracy: 0.7604\n",
            "Epoch 44/100\n",
            "12/12 [==============================] - 12s 982ms/step - loss: 1.2992 - accuracy: 0.7344 - sparse_top_k_categorical_accuracy: 0.8281\n",
            "Epoch 45/100\n",
            "12/12 [==============================] - 12s 984ms/step - loss: 0.9379 - accuracy: 0.7708 - sparse_top_k_categorical_accuracy: 0.8724\n",
            "Epoch 46/100\n",
            "12/12 [==============================] - 12s 980ms/step - loss: 1.0319 - accuracy: 0.7578 - sparse_top_k_categorical_accuracy: 0.8880\n",
            "Epoch 47/100\n",
            "12/12 [==============================] - 12s 980ms/step - loss: 1.0454 - accuracy: 0.7578 - sparse_top_k_categorical_accuracy: 0.8750\n",
            "Epoch 48/100\n",
            "12/12 [==============================] - 12s 980ms/step - loss: 1.3252 - accuracy: 0.7526 - sparse_top_k_categorical_accuracy: 0.8516\n",
            "Epoch 49/100\n",
            "12/12 [==============================] - 12s 982ms/step - loss: 1.0982 - accuracy: 0.7760 - sparse_top_k_categorical_accuracy: 0.8672\n",
            "Epoch 50/100\n",
            "12/12 [==============================] - 12s 983ms/step - loss: 1.2997 - accuracy: 0.7370 - sparse_top_k_categorical_accuracy: 0.8542\n",
            "Epoch 51/100\n",
            "12/12 [==============================] - 12s 982ms/step - loss: 0.9319 - accuracy: 0.7656 - sparse_top_k_categorical_accuracy: 0.8802\n",
            "Epoch 52/100\n",
            "12/12 [==============================] - 12s 980ms/step - loss: 0.8980 - accuracy: 0.7969 - sparse_top_k_categorical_accuracy: 0.8932\n",
            "Epoch 53/100\n",
            "12/12 [==============================] - 12s 997ms/step - loss: 1.1051 - accuracy: 0.7604 - sparse_top_k_categorical_accuracy: 0.8776\n",
            "Epoch 54/100\n",
            "12/12 [==============================] - 12s 983ms/step - loss: 1.0110 - accuracy: 0.7604 - sparse_top_k_categorical_accuracy: 0.8828\n",
            "Epoch 55/100\n",
            "12/12 [==============================] - 12s 984ms/step - loss: 1.0874 - accuracy: 0.7891 - sparse_top_k_categorical_accuracy: 0.8776\n",
            "Epoch 56/100\n",
            "12/12 [==============================] - 12s 983ms/step - loss: 1.2412 - accuracy: 0.7552 - sparse_top_k_categorical_accuracy: 0.8672\n",
            "Epoch 57/100\n",
            "12/12 [==============================] - 12s 986ms/step - loss: 1.2065 - accuracy: 0.7526 - sparse_top_k_categorical_accuracy: 0.8516\n",
            "Epoch 58/100\n",
            "12/12 [==============================] - 12s 982ms/step - loss: 0.8938 - accuracy: 0.7917 - sparse_top_k_categorical_accuracy: 0.8880\n",
            "Epoch 59/100\n",
            "12/12 [==============================] - 12s 990ms/step - loss: 1.3008 - accuracy: 0.7526 - sparse_top_k_categorical_accuracy: 0.8516\n",
            "Epoch 60/100\n",
            "12/12 [==============================] - 12s 981ms/step - loss: 0.9461 - accuracy: 0.8099 - sparse_top_k_categorical_accuracy: 0.9062\n",
            "Epoch 61/100\n",
            "12/12 [==============================] - 12s 990ms/step - loss: 1.1395 - accuracy: 0.7995 - sparse_top_k_categorical_accuracy: 0.8880\n",
            "Epoch 62/100\n",
            "12/12 [==============================] - 12s 1s/step - loss: 1.0618 - accuracy: 0.7786 - sparse_top_k_categorical_accuracy: 0.8698\n",
            "Epoch 63/100\n",
            "12/12 [==============================] - 12s 990ms/step - loss: 1.3296 - accuracy: 0.7526 - sparse_top_k_categorical_accuracy: 0.8542\n",
            "Epoch 64/100\n",
            "12/12 [==============================] - 12s 983ms/step - loss: 1.3094 - accuracy: 0.7708 - sparse_top_k_categorical_accuracy: 0.8776\n",
            "Epoch 65/100\n",
            "12/12 [==============================] - 12s 983ms/step - loss: 1.1719 - accuracy: 0.7760 - sparse_top_k_categorical_accuracy: 0.8620\n",
            "Epoch 66/100\n",
            "12/12 [==============================] - 12s 982ms/step - loss: 1.5815 - accuracy: 0.7526 - sparse_top_k_categorical_accuracy: 0.8333\n",
            "Epoch 67/100\n",
            "12/12 [==============================] - 12s 984ms/step - loss: 1.3777 - accuracy: 0.7552 - sparse_top_k_categorical_accuracy: 0.8333\n",
            "Epoch 68/100\n",
            "12/12 [==============================] - 12s 982ms/step - loss: 1.2429 - accuracy: 0.7786 - sparse_top_k_categorical_accuracy: 0.8802\n",
            "Epoch 69/100\n",
            "12/12 [==============================] - 12s 986ms/step - loss: 1.1118 - accuracy: 0.7474 - sparse_top_k_categorical_accuracy: 0.8646\n",
            "Epoch 70/100\n",
            "12/12 [==============================] - 12s 983ms/step - loss: 1.4269 - accuracy: 0.7292 - sparse_top_k_categorical_accuracy: 0.8411\n",
            "Epoch 71/100\n",
            "12/12 [==============================] - 12s 981ms/step - loss: 1.4008 - accuracy: 0.7318 - sparse_top_k_categorical_accuracy: 0.8594\n",
            "Epoch 72/100\n",
            "12/12 [==============================] - 12s 981ms/step - loss: 1.6054 - accuracy: 0.7240 - sparse_top_k_categorical_accuracy: 0.8411\n",
            "Epoch 73/100\n",
            "12/12 [==============================] - 12s 986ms/step - loss: 1.9916 - accuracy: 0.6875 - sparse_top_k_categorical_accuracy: 0.8307\n",
            "Epoch 74/100\n",
            "12/12 [==============================] - 12s 983ms/step - loss: 1.5485 - accuracy: 0.7370 - sparse_top_k_categorical_accuracy: 0.8542\n",
            "Epoch 75/100\n",
            "12/12 [==============================] - 12s 984ms/step - loss: 1.5379 - accuracy: 0.7552 - sparse_top_k_categorical_accuracy: 0.8438\n",
            "Epoch 76/100\n",
            "12/12 [==============================] - 12s 986ms/step - loss: 1.3763 - accuracy: 0.7214 - sparse_top_k_categorical_accuracy: 0.8438\n",
            "Epoch 77/100\n",
            "12/12 [==============================] - 12s 1s/step - loss: 1.6119 - accuracy: 0.7240 - sparse_top_k_categorical_accuracy: 0.8490\n",
            "Epoch 78/100\n",
            "12/12 [==============================] - 12s 984ms/step - loss: 1.5331 - accuracy: 0.7422 - sparse_top_k_categorical_accuracy: 0.8464\n",
            "Epoch 79/100\n",
            "12/12 [==============================] - 11s 946ms/step - loss: 1.4418 - accuracy: 0.7696 - sparse_top_k_categorical_accuracy: 0.8455\n",
            "Epoch 80/100\n",
            "12/12 [==============================] - 12s 981ms/step - loss: 1.6027 - accuracy: 0.7396 - sparse_top_k_categorical_accuracy: 0.8490\n",
            "Epoch 81/100\n",
            "12/12 [==============================] - 12s 984ms/step - loss: 1.6261 - accuracy: 0.7344 - sparse_top_k_categorical_accuracy: 0.8464\n",
            "Epoch 82/100\n",
            "12/12 [==============================] - 12s 981ms/step - loss: 1.6417 - accuracy: 0.7135 - sparse_top_k_categorical_accuracy: 0.8438\n",
            "Epoch 83/100\n",
            "12/12 [==============================] - 12s 987ms/step - loss: 1.7965 - accuracy: 0.6901 - sparse_top_k_categorical_accuracy: 0.8203\n"
          ],
          "name": "stdout"
        }
      ]
    },
    {
      "cell_type": "code",
      "metadata": {
        "id": "gJZ-Jc2qgSCl",
        "colab": {
          "base_uri": "https://localhost:8080/",
          "height": 34
        },
        "outputId": "e76c5aaa-e2a2-4a93-a958-25e97d348125"
      },
      "source": [
        "# Let's take a look to see how many layers are in the base model\n",
        "print(\"Number of layers in the base model: \", len(base_model.layers))"
      ],
      "execution_count": null,
      "outputs": [
        {
          "output_type": "stream",
          "text": [
            "Number of layers in the base model:  155\n"
          ],
          "name": "stdout"
        }
      ]
    },
    {
      "cell_type": "code",
      "metadata": {
        "id": "fnEcih32f4Wj"
      },
      "source": [
        "base_model.trainable = True\n",
        "\n",
        "\n",
        "# Fine-tune from this layer onwards\n",
        "fine_tune_at = 100\n",
        "\n",
        "# Freeze all the layers before the `fine_tune_at` layer\n",
        "for layer in base_model.layers[:fine_tune_at]:\n",
        "  layer.trainable =  False\n"
      ],
      "execution_count": null,
      "outputs": []
    },
    {
      "cell_type": "code",
      "metadata": {
        "id": "-JCmXee69Yuk",
        "colab": {
          "base_uri": "https://localhost:8080/",
          "height": 697
        },
        "outputId": "feb2118f-a8f1-4d09-df92-c827c914b8d5"
      },
      "source": [
        "#for layer in base_model.layers:\n",
        "#    layer.trainable = True\n",
        "\n",
        "\n",
        "#optimizer = keras.optimizers.Adam(learning_rate=0.0001)\n",
        "optimizer = keras.optimizers.Nadam(learning_rate=0.001)\n",
        "model.compile(loss=\"sparse_categorical_crossentropy\", optimizer=optimizer, metrics=[\"accuracy\", tf.keras.metrics.SparseTopKCategoricalAccuracy(2)])\n",
        "history = model.fit(train_set,\n",
        "                    steps_per_epoch=int(0.75 * dataset_size / batch_size),\n",
        "                    validation_data=valid_set,\n",
        "                    validation_steps=int(0.75 * dataset_size / batch_size),\n",
        "                    epochs=20)\n"
      ],
      "execution_count": null,
      "outputs": [
        {
          "output_type": "stream",
          "text": [
            "Epoch 1/20\n",
            "9/9 [==============================] - 19s 2s/step - loss: 0.2230 - accuracy: 0.9306 - sparse_top_k_categorical_accuracy: 0.9688 - val_loss: 1.4090 - val_accuracy: 0.7326 - val_sparse_top_k_categorical_accuracy: 0.8507\n",
            "Epoch 2/20\n",
            "9/9 [==============================] - 18s 2s/step - loss: 0.1651 - accuracy: 0.9514 - sparse_top_k_categorical_accuracy: 0.9757 - val_loss: 1.4680 - val_accuracy: 0.7326 - val_sparse_top_k_categorical_accuracy: 0.8507\n",
            "Epoch 3/20\n",
            "9/9 [==============================] - 18s 2s/step - loss: 0.2211 - accuracy: 0.9340 - sparse_top_k_categorical_accuracy: 0.9792 - val_loss: 1.4793 - val_accuracy: 0.7118 - val_sparse_top_k_categorical_accuracy: 0.8403\n",
            "Epoch 4/20\n",
            "9/9 [==============================] - 18s 2s/step - loss: 0.2366 - accuracy: 0.9444 - sparse_top_k_categorical_accuracy: 0.9722 - val_loss: 1.5854 - val_accuracy: 0.7396 - val_sparse_top_k_categorical_accuracy: 0.8542\n",
            "Epoch 5/20\n",
            "9/9 [==============================] - 18s 2s/step - loss: 0.3943 - accuracy: 0.8889 - sparse_top_k_categorical_accuracy: 0.9653 - val_loss: 1.0905 - val_accuracy: 0.7500 - val_sparse_top_k_categorical_accuracy: 0.8924\n",
            "Epoch 6/20\n",
            "9/9 [==============================] - 18s 2s/step - loss: 0.2667 - accuracy: 0.9132 - sparse_top_k_categorical_accuracy: 0.9653 - val_loss: 1.2004 - val_accuracy: 0.7465 - val_sparse_top_k_categorical_accuracy: 0.8681\n",
            "Epoch 7/20\n",
            "9/9 [==============================] - 19s 2s/step - loss: 0.3871 - accuracy: 0.8958 - sparse_top_k_categorical_accuracy: 0.9410 - val_loss: 1.5807 - val_accuracy: 0.7396 - val_sparse_top_k_categorical_accuracy: 0.8507\n",
            "Epoch 8/20\n",
            "9/9 [==============================] - 18s 2s/step - loss: 0.3426 - accuracy: 0.9167 - sparse_top_k_categorical_accuracy: 0.9549 - val_loss: 1.3023 - val_accuracy: 0.7674 - val_sparse_top_k_categorical_accuracy: 0.8750\n",
            "Epoch 9/20\n",
            "9/9 [==============================] - 18s 2s/step - loss: 0.3036 - accuracy: 0.9167 - sparse_top_k_categorical_accuracy: 0.9653 - val_loss: 1.5874 - val_accuracy: 0.7326 - val_sparse_top_k_categorical_accuracy: 0.8576\n",
            "Epoch 10/20\n",
            "9/9 [==============================] - 18s 2s/step - loss: 0.1912 - accuracy: 0.9514 - sparse_top_k_categorical_accuracy: 0.9826 - val_loss: 1.5600 - val_accuracy: 0.7361 - val_sparse_top_k_categorical_accuracy: 0.8299\n",
            "Epoch 11/20\n",
            "9/9 [==============================] - 18s 2s/step - loss: 0.2790 - accuracy: 0.9236 - sparse_top_k_categorical_accuracy: 0.9757 - val_loss: 1.5087 - val_accuracy: 0.7326 - val_sparse_top_k_categorical_accuracy: 0.8403\n",
            "Epoch 12/20\n",
            "9/9 [==============================] - 18s 2s/step - loss: 0.3183 - accuracy: 0.9062 - sparse_top_k_categorical_accuracy: 0.9653 - val_loss: 1.3560 - val_accuracy: 0.7431 - val_sparse_top_k_categorical_accuracy: 0.8542\n",
            "Epoch 13/20\n",
            "9/9 [==============================] - 18s 2s/step - loss: 0.4252 - accuracy: 0.9011 - sparse_top_k_categorical_accuracy: 0.9414 - val_loss: 1.2978 - val_accuracy: 0.7639 - val_sparse_top_k_categorical_accuracy: 0.8750\n",
            "Epoch 14/20\n",
            "9/9 [==============================] - 18s 2s/step - loss: 0.3587 - accuracy: 0.9097 - sparse_top_k_categorical_accuracy: 0.9514 - val_loss: 1.2893 - val_accuracy: 0.7465 - val_sparse_top_k_categorical_accuracy: 0.8646\n",
            "Epoch 15/20\n",
            "9/9 [==============================] - 19s 2s/step - loss: 0.4401 - accuracy: 0.8750 - sparse_top_k_categorical_accuracy: 0.9306 - val_loss: 1.5290 - val_accuracy: 0.7222 - val_sparse_top_k_categorical_accuracy: 0.8299\n",
            "Epoch 16/20\n",
            "9/9 [==============================] - 18s 2s/step - loss: 0.1693 - accuracy: 0.9549 - sparse_top_k_categorical_accuracy: 0.9826 - val_loss: 1.5931 - val_accuracy: 0.7049 - val_sparse_top_k_categorical_accuracy: 0.8125\n",
            "Epoch 17/20\n",
            "9/9 [==============================] - 19s 2s/step - loss: 0.5828 - accuracy: 0.8472 - sparse_top_k_categorical_accuracy: 0.9201 - val_loss: 1.3362 - val_accuracy: 0.7500 - val_sparse_top_k_categorical_accuracy: 0.8576\n",
            "Epoch 18/20\n",
            "9/9 [==============================] - 18s 2s/step - loss: 0.5139 - accuracy: 0.8576 - sparse_top_k_categorical_accuracy: 0.9236 - val_loss: 1.4625 - val_accuracy: 0.7153 - val_sparse_top_k_categorical_accuracy: 0.8472\n",
            "Epoch 19/20\n",
            "9/9 [==============================] - 19s 2s/step - loss: 0.2421 - accuracy: 0.9271 - sparse_top_k_categorical_accuracy: 0.9653 - val_loss: 1.4807 - val_accuracy: 0.7153 - val_sparse_top_k_categorical_accuracy: 0.8229\n",
            "Epoch 20/20\n",
            "9/9 [==============================] - 18s 2s/step - loss: 0.2596 - accuracy: 0.9306 - sparse_top_k_categorical_accuracy: 0.9653 - val_loss: 1.4768 - val_accuracy: 0.7396 - val_sparse_top_k_categorical_accuracy: 0.8160\n"
          ],
          "name": "stdout"
        }
      ]
    },
    {
      "cell_type": "code",
      "metadata": {
        "id": "aVWE23ivzWuC",
        "colab": {
          "base_uri": "https://localhost:8080/",
          "height": 1000
        },
        "outputId": "78863afe-452d-45c3-c63a-97772e79d024"
      },
      "source": [
        "# Production top100 layer training\n",
        "\n",
        "optimizer = keras.optimizers.Adam(learning_rate=0.0001)\n",
        "model.compile(loss=\"sparse_categorical_crossentropy\", optimizer=optimizer, metrics=[\"accuracy\", tf.keras.metrics.SparseTopKCategoricalAccuracy(2)])\n",
        "history = model.fit(concat_set,\n",
        "                    steps_per_epoch=int(0.75 * dataset_size / batch_size),\n",
        "                    epochs=42)\n"
      ],
      "execution_count": null,
      "outputs": [
        {
          "output_type": "stream",
          "text": [
            "Epoch 1/42\n",
            "12/12 [==============================] - 24s 2s/step - loss: 3.9288 - accuracy: 0.4323 - sparse_top_k_categorical_accuracy: 0.5807\n",
            "Epoch 2/42\n",
            "12/12 [==============================] - 24s 2s/step - loss: 2.3295 - accuracy: 0.5911 - sparse_top_k_categorical_accuracy: 0.6953\n",
            "Epoch 3/42\n",
            "12/12 [==============================] - 24s 2s/step - loss: 1.4282 - accuracy: 0.6536 - sparse_top_k_categorical_accuracy: 0.8021\n",
            "Epoch 4/42\n",
            "12/12 [==============================] - 23s 2s/step - loss: 1.1958 - accuracy: 0.6901 - sparse_top_k_categorical_accuracy: 0.8099\n",
            "Epoch 5/42\n",
            "12/12 [==============================] - 23s 2s/step - loss: 1.0996 - accuracy: 0.7135 - sparse_top_k_categorical_accuracy: 0.8177\n",
            "Epoch 6/42\n",
            "12/12 [==============================] - 23s 2s/step - loss: 1.4559 - accuracy: 0.6589 - sparse_top_k_categorical_accuracy: 0.7656\n",
            "Epoch 7/42\n",
            "12/12 [==============================] - 24s 2s/step - loss: 1.1042 - accuracy: 0.7318 - sparse_top_k_categorical_accuracy: 0.8411\n",
            "Epoch 8/42\n",
            "12/12 [==============================] - 24s 2s/step - loss: 1.1463 - accuracy: 0.7161 - sparse_top_k_categorical_accuracy: 0.8021\n",
            "Epoch 9/42\n",
            "12/12 [==============================] - 23s 2s/step - loss: 1.0722 - accuracy: 0.7083 - sparse_top_k_categorical_accuracy: 0.8255\n",
            "Epoch 10/42\n",
            "12/12 [==============================] - 23s 2s/step - loss: 0.9648 - accuracy: 0.7552 - sparse_top_k_categorical_accuracy: 0.8438\n",
            "Epoch 11/42\n",
            "12/12 [==============================] - 23s 2s/step - loss: 1.0473 - accuracy: 0.7292 - sparse_top_k_categorical_accuracy: 0.8385\n",
            "Epoch 12/42\n",
            "12/12 [==============================] - 23s 2s/step - loss: 0.8462 - accuracy: 0.7630 - sparse_top_k_categorical_accuracy: 0.8646\n",
            "Epoch 13/42\n",
            "12/12 [==============================] - 24s 2s/step - loss: 1.1955 - accuracy: 0.6797 - sparse_top_k_categorical_accuracy: 0.8307\n",
            "Epoch 14/42\n",
            "12/12 [==============================] - 23s 2s/step - loss: 1.0303 - accuracy: 0.7240 - sparse_top_k_categorical_accuracy: 0.8255\n",
            "Epoch 15/42\n",
            "12/12 [==============================] - 24s 2s/step - loss: 0.9934 - accuracy: 0.7630 - sparse_top_k_categorical_accuracy: 0.8516\n",
            "Epoch 16/42\n",
            "12/12 [==============================] - 24s 2s/step - loss: 1.0438 - accuracy: 0.7500 - sparse_top_k_categorical_accuracy: 0.8490\n",
            "Epoch 17/42\n",
            "12/12 [==============================] - 24s 2s/step - loss: 0.8678 - accuracy: 0.7630 - sparse_top_k_categorical_accuracy: 0.8620\n",
            "Epoch 18/42\n",
            "12/12 [==============================] - 24s 2s/step - loss: 0.8652 - accuracy: 0.7500 - sparse_top_k_categorical_accuracy: 0.8750\n",
            "Epoch 19/42\n",
            "12/12 [==============================] - 23s 2s/step - loss: 0.9950 - accuracy: 0.7396 - sparse_top_k_categorical_accuracy: 0.8490\n",
            "Epoch 20/42\n",
            "12/12 [==============================] - 24s 2s/step - loss: 0.8912 - accuracy: 0.7344 - sparse_top_k_categorical_accuracy: 0.8411\n",
            "Epoch 21/42\n",
            "12/12 [==============================] - 23s 2s/step - loss: 0.8691 - accuracy: 0.7724 - sparse_top_k_categorical_accuracy: 0.8780\n",
            "Epoch 22/42\n",
            "12/12 [==============================] - 24s 2s/step - loss: 0.8737 - accuracy: 0.7448 - sparse_top_k_categorical_accuracy: 0.8438\n",
            "Epoch 23/42\n",
            "12/12 [==============================] - 24s 2s/step - loss: 0.6958 - accuracy: 0.8125 - sparse_top_k_categorical_accuracy: 0.9036\n",
            "Epoch 24/42\n",
            "12/12 [==============================] - 24s 2s/step - loss: 0.7243 - accuracy: 0.7865 - sparse_top_k_categorical_accuracy: 0.8802\n",
            "Epoch 25/42\n",
            "12/12 [==============================] - 24s 2s/step - loss: 0.7781 - accuracy: 0.7865 - sparse_top_k_categorical_accuracy: 0.8724\n",
            "Epoch 26/42\n",
            "12/12 [==============================] - 24s 2s/step - loss: 0.8265 - accuracy: 0.7865 - sparse_top_k_categorical_accuracy: 0.8698\n",
            "Epoch 27/42\n",
            "12/12 [==============================] - 24s 2s/step - loss: 0.7764 - accuracy: 0.7734 - sparse_top_k_categorical_accuracy: 0.8802\n",
            "Epoch 28/42\n",
            "12/12 [==============================] - 24s 2s/step - loss: 0.7373 - accuracy: 0.7891 - sparse_top_k_categorical_accuracy: 0.8802\n",
            "Epoch 29/42\n",
            "12/12 [==============================] - 24s 2s/step - loss: 0.8195 - accuracy: 0.7865 - sparse_top_k_categorical_accuracy: 0.8646\n",
            "Epoch 30/42\n",
            "12/12 [==============================] - 24s 2s/step - loss: 0.8535 - accuracy: 0.7812 - sparse_top_k_categorical_accuracy: 0.8776\n",
            "Epoch 31/42\n",
            "12/12 [==============================] - 24s 2s/step - loss: 0.7740 - accuracy: 0.7786 - sparse_top_k_categorical_accuracy: 0.8750\n",
            "Epoch 32/42\n",
            "12/12 [==============================] - 24s 2s/step - loss: 0.8310 - accuracy: 0.7708 - sparse_top_k_categorical_accuracy: 0.8568\n",
            "Epoch 33/42\n",
            "12/12 [==============================] - 24s 2s/step - loss: 0.7947 - accuracy: 0.7865 - sparse_top_k_categorical_accuracy: 0.8646\n",
            "Epoch 34/42\n",
            "12/12 [==============================] - 24s 2s/step - loss: 0.6913 - accuracy: 0.7943 - sparse_top_k_categorical_accuracy: 0.8958\n",
            "Epoch 35/42\n",
            "12/12 [==============================] - 24s 2s/step - loss: 0.7796 - accuracy: 0.7865 - sparse_top_k_categorical_accuracy: 0.8880\n",
            "Epoch 36/42\n",
            "12/12 [==============================] - 23s 2s/step - loss: 0.7340 - accuracy: 0.8047 - sparse_top_k_categorical_accuracy: 0.8776\n",
            "Epoch 37/42\n",
            "12/12 [==============================] - 24s 2s/step - loss: 0.7619 - accuracy: 0.8047 - sparse_top_k_categorical_accuracy: 0.8880\n",
            "Epoch 38/42\n",
            "12/12 [==============================] - 24s 2s/step - loss: 0.7660 - accuracy: 0.7943 - sparse_top_k_categorical_accuracy: 0.8906\n",
            "Epoch 39/42\n",
            "12/12 [==============================] - 23s 2s/step - loss: 0.8254 - accuracy: 0.7682 - sparse_top_k_categorical_accuracy: 0.8828\n",
            "Epoch 40/42\n",
            "12/12 [==============================] - 24s 2s/step - loss: 0.6024 - accuracy: 0.8151 - sparse_top_k_categorical_accuracy: 0.9036\n",
            "Epoch 41/42\n",
            "12/12 [==============================] - 24s 2s/step - loss: 0.7922 - accuracy: 0.7917 - sparse_top_k_categorical_accuracy: 0.8828\n",
            "Epoch 42/42\n",
            "12/12 [==============================] - 24s 2s/step - loss: 0.8105 - accuracy: 0.7969 - sparse_top_k_categorical_accuracy: 0.8932\n"
          ],
          "name": "stdout"
        }
      ]
    },
    {
      "cell_type": "code",
      "metadata": {
        "id": "8L1BVa5eaNE7"
      },
      "source": [
        "model.evaluate(concat_set, steps=1)\n",
        "\n",
        "# loss: 1.0796 - accuracy: 0.8125 - sparse_top_k_categorical_accuracy: 0.8807\n"
      ],
      "execution_count": null,
      "outputs": []
    },
    {
      "cell_type": "code",
      "metadata": {
        "id": "3ULt6Erd7dVD"
      },
      "source": [
        "# Save model\n",
        "model.save('/content/drive/My Drive/Colab Notebooks/plant/prod_pre_fine_tuning')"
      ],
      "execution_count": null,
      "outputs": []
    },
    {
      "cell_type": "code",
      "metadata": {
        "id": "ZE5nWk8DCWJH"
      },
      "source": [
        "# Load model\n",
        "model = tf.keras.models.load_model('/content/drive/My Drive/Colab Notebooks/plant/pogmodel')\n",
        "model.compile(loss=\"sparse_categorical_crossentropy\", metrics=[\"accuracy\", tf.keras.metrics.SparseTopKCategoricalAccuracy(2)])"
      ],
      "execution_count": null,
      "outputs": []
    },
    {
      "cell_type": "code",
      "metadata": {
        "id": "7rv4jw5GvNmU"
      },
      "source": [
        "model.compile(loss=\"sparse_categorical_crossentropy\", metrics=[\"accuracy\", tf.keras.metrics.SparseTopKCategoricalAccuracy(4)])"
      ],
      "execution_count": null,
      "outputs": []
    },
    {
      "cell_type": "code",
      "metadata": {
        "id": "WrBChgp4MrYX"
      },
      "source": [
        "# Check loaded model's architecture\n",
        "model.summary()"
      ],
      "execution_count": null,
      "outputs": []
    },
    {
      "cell_type": "code",
      "metadata": {
        "id": "cOiQInbgMkir",
        "colab": {
          "base_uri": "https://localhost:8080/",
          "height": 51
        },
        "outputId": "f4fc7250-8e85-4374-cbb8-febfad8dfeb2"
      },
      "source": [
        "# Test\n",
        "\n",
        "model.evaluate(test_set)"
      ],
      "execution_count": null,
      "outputs": [
        {
          "output_type": "stream",
          "text": [
            "11/11 [==============================] - 14s 1s/step - loss: 1.2337 - accuracy: 0.7926 - sparse_top_k_categorical_accuracy: 0.9290\n"
          ],
          "name": "stdout"
        },
        {
          "output_type": "execute_result",
          "data": {
            "text/plain": [
              "[1.2337449789047241, 0.7926136255264282, 0.9289772510528564]"
            ]
          },
          "metadata": {
            "tags": []
          },
          "execution_count": 82
        }
      ]
    },
    {
      "cell_type": "code",
      "metadata": {
        "id": "V2GMTNek5lLH",
        "colab": {
          "base_uri": "https://localhost:8080/",
          "height": 248
        },
        "outputId": "cb4c11aa-7167-4d1c-cdfb-36998e5d1ae7"
      },
      "source": [
        "# Load in the image to be predicted\n",
        "\n",
        "#rose.png\n",
        "#sunflower.jpg\n",
        "tf_img = tf.keras.preprocessing.image.load_img('/content/drive/My Drive/Colab Notebooks/plant/dataset/jpeg-224x224/test/rose.png')\n",
        "tf_img_tensor = tf.keras.preprocessing.image.img_to_array(tf_img)\n",
        "\n",
        "\n",
        "# Plot image \n",
        "def plot_image(image_to_plot):\n",
        "    plt.imshow(image_to_plot)\n",
        "    plt.axis(\"off\")\n",
        "\n",
        "plot_image(tf_img)\n",
        "\n",
        "# Preprocess\n",
        "\n",
        "img_preprocessed = preprocess(tf_img_tensor, None)[0]\n",
        "\n",
        "# Extend dimension for compatibility with model\n",
        "img_preprocessed = img_preprocessed[None, :]"
      ],
      "execution_count": null,
      "outputs": [
        {
          "output_type": "display_data",
          "data": {
            "image/png": "[encoded data removed]",
            "text/plain": [
              "<Figure size 432x288 with 1 Axes>"
            ]
          },
          "metadata": {
            "tags": [],
            "needs_background": "light"
          }
        }
      ]
    },
    {
      "cell_type": "code",
      "metadata": {
        "id": "44I2myNR4cqx",
        "colab": {
          "base_uri": "https://localhost:8080/",
          "height": 68
        },
        "outputId": "41f25c7b-9242-48b7-b246-fcd12f4c49f9"
      },
      "source": [
        "# Predict class of image\n",
        "\n",
        "img_predictions = model.predict(img_preprocessed)[0]\n",
        "#predicted_class = np.argmax(img_predictions, axis=1)\n",
        "k = 3\n",
        "top_k_classes = img_predictions.argsort()[-k:][::-1]\n",
        "\n",
        "for index in top_k_classes:\n",
        "  print('Class:', class_names[index], '- Class index:', index, '- Prediction value:', img_predictions[index])"
      ],
      "execution_count": null,
      "outputs": [
        {
          "output_type": "stream",
          "text": [
            "Class: rose - Class index: 78 - Prediction value: 0.98891044\n",
            "Class: sword lily - Class index: 89 - Prediction value: 0.009787426\n",
            "Class: camellia - Class index: 17 - Prediction value: 0.00090770406\n"
          ],
          "name": "stdout"
        }
      ]
    }
  ]
}